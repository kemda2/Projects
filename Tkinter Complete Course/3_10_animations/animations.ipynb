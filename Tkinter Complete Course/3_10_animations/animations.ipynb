{
 "cells": [
  {
   "cell_type": "markdown",
   "id": "2b0f1a70-5ca7-4b0d-9019-18919245b1ae",
   "metadata": {},
   "source": [
    "# 3_10_animations"
   ]
  },
  {
   "attachments": {
    "c28a6601-db7e-43d6-b7dc-4585e7cb61bc.png": {
     "image/png": "[encoded data removed]"
    },
    "e4671bf3-a2b1-427a-bf55-2a4cb85d7756.png": {
     "image/png": "[encoded data removed]"
    }
   },
   "cell_type": "markdown",
   "id": "44c34d76-f4d3-404c-8929-5fcc6ceb42f0",
   "metadata": {},
   "source": [
    "Output;\n",
    "\n",
    "![image.png](attachment:e4671bf3-a2b1-427a-bf55-2a4cb85d7756.png) ![image.png](attachment:c28a6601-db7e-43d6-b7dc-4585e7cb61bc.png)"
   ]
  },
  {
   "cell_type": "code",
   "execution_count": 2,
   "id": "b079b205-2ff9-4ae2-aa34-377361c0ebb2",
   "metadata": {},
   "outputs": [],
   "source": [
    "import customtkinter as ctk\n",
    "from PIL import Image\n",
    "from os import walk\n",
    "\n",
    "# exercise:\n",
    "# create an animation that runs forever\n",
    "\n",
    "class AnimatedButton(ctk.CTkButton):\n",
    "\tdef __init__(self, parent, light_path, dark_path):\n",
    "\t\t\n",
    "\t\t# animation logic setup\n",
    "\t\tself.frames = self.import_folders(light_path, dark_path)\n",
    "\t\tself.frame_index = 0\n",
    "\t\tself.animation_length = len(self.frames) - 1\n",
    "\t\tself.animation_status = ctk.StringVar(value = 'start')\n",
    "\n",
    "\t\tself.animation_status.trace('w', self.animate)\n",
    "\n",
    "\t\tsuper().__init__(\n",
    "\t\t\tmaster = parent, \n",
    "\t\t\ttext = 'A animated button', \n",
    "\t\t\timage = self.frames[self.frame_index],\n",
    "\t\t\tcommand = self.infinite_animate)\n",
    "\t\tself.pack(expand = True)\n",
    "\n",
    "\tdef infinite_animate(self):\n",
    "\t\tself.frame_index += 1\n",
    "\t\tself.frame_index = 0 if self.frame_index > self.animation_length else self.frame_index\n",
    "\t\tself.configure(image = self.frames[self.frame_index])\n",
    "\t\tself.after(20, self.infinite_animate)\n",
    "\n",
    "\tdef import_folders(self, light_path, dark_path):\n",
    "\t\timage_paths = []\n",
    "\t\tfor path in (light_path, dark_path):\n",
    "\t\t\tfor _, __, image_data in walk(path):\n",
    "\t\t\t\tsorted_data = sorted(\n",
    "\t\t\t\t\timage_data, \n",
    "\t\t\t\t\tkey = lambda item: int(item.split('.')[0][-5:]))\n",
    "\t\t\t\t\n",
    "\t\t\t\tfull_path_data = [path + '/' + item for item in sorted_data]\n",
    "\t\t\t\timage_paths.append(full_path_data)\n",
    "\t\timage_paths = zip(*image_paths)\n",
    "\n",
    "\t\tctk_images = []\n",
    "\t\tfor image_path in image_paths:\n",
    "\t\t\tctk_image = ctk.CTkImage(\n",
    "\t\t\t\tlight_image = Image.open(image_path[0]), \n",
    "\t\t\t\tdark_image = Image.open(image_path[1]))\n",
    "\t\t\tctk_images.append(ctk_image)\n",
    "\n",
    "\t\treturn ctk_images\n",
    "\n",
    "\tdef trigger_animation(self):\n",
    "\t\tif self.animation_status.get() == 'start':\n",
    "\t\t\tself.frame_index = 0\n",
    "\t\t\tself.animation_status.set('forward')\n",
    "\t\tif self.animation_status.get() == 'end':\n",
    "\t\t\tself.frame_index = self.animation_length\n",
    "\t\t\tself.animation_status.set('backward')\n",
    "\n",
    "\tdef animate(self, *args):\n",
    "\t\tif self.animation_status.get() == 'forward':\n",
    "\t\t\tself.frame_index += 1\n",
    "\t\t\tself.configure(image = self.frames[self.frame_index])\n",
    "\n",
    "\t\t\tif self.frame_index < self.animation_length:\n",
    "\t\t\t\tself.after(20, self.animate)\n",
    "\t\t\telse:\n",
    "\t\t\t\tself.animation_status.set('end')\n",
    "\n",
    "\t\tif self.animation_status.get() == 'backward':\n",
    "\t\t\tself.frame_index -= 1\n",
    "\t\t\tself.configure(image = self.frames[self.frame_index])\n",
    "\n",
    "\t\t\tif self.frame_index > 0:\n",
    "\t\t\t\tself.after(20, self.animate)\n",
    "\t\t\telse:\n",
    "\t\t\t\tself.animation_status.set('start')\n",
    "\n",
    "# window \n",
    "window = ctk.CTk()\n",
    "window.title('Animations')\n",
    "window.geometry('300x200')\n",
    "# ctk.set_appearance_mode('light')\n",
    "\n",
    "AnimatedButton(window, 'black', 'yellow')\n",
    "\n",
    "# run\n",
    "window.mainloop()"
   ]
  }
 ],
 "metadata": {
  "kernelspec": {
   "display_name": "Python 3 (ipykernel)",
   "language": "python",
   "name": "python3"
  },
  "language_info": {
   "codemirror_mode": {
    "name": "ipython",
    "version": 3
   },
   "file_extension": ".py",
   "mimetype": "text/x-python",
   "name": "python",
   "nbconvert_exporter": "python",
   "pygments_lexer": "ipython3",
   "version": "3.12.3"
  }
 },
 "nbformat": 4,
 "nbformat_minor": 5
}
